{
 "cells": [
  {
   "cell_type": "code",
   "execution_count": null,
   "metadata": {},
   "outputs": [],
   "source": [
    "import pickle\n",
    "from qdrant_client import QdrantClient\n",
    "from qdrant_client.models import VectorParams, Distance, PointStruct\n",
    "from loguru import logger as log\n",
    "import configparser\n",
    "import uuid"
   ]
  },
  {
   "cell_type": "code",
   "execution_count": null,
   "metadata": {},
   "outputs": [],
   "source": [
    "config = configparser.ConfigParser()\n",
    "config.read('../config.ini')"
   ]
  },
  {
   "cell_type": "code",
   "execution_count": null,
   "metadata": {},
   "outputs": [],
   "source": [
    "qdrant_client = QdrantClient(url=config['production']['QdrantUrl'])\n",
    "\n",
    "qdrant_client.recreate_collection(\n",
    "        collection_name=config['production']['CollectionName'],\n",
    "        vectors_config=VectorParams(size=512, distance=Distance.COSINE),\n",
    "    )"
   ]
  },
  {
   "cell_type": "code",
   "execution_count": null,
   "metadata": {},
   "outputs": [],
   "source": [
    "with open(\"../../data/data.pkl\", \"rb\") as f:\n",
    "    products = pickle.load(f)"
   ]
  },
  {
   "cell_type": "code",
   "execution_count": null,
   "metadata": {},
   "outputs": [],
   "source": [
    "for product in products:\n",
    "    points = [\n",
    "            PointStruct(\n",
    "                id=uuid.uuid4().__str__(), \n",
    "                vector=embedding.tolist(),\n",
    "                payload={**product[0]},\n",
    "            )\n",
    "            for embedding in product[1]\n",
    "        ]\n",
    "    \n",
    "    qdrant_client.upsert(collection_name=config['production']['CollectionName'], points=points)\n",
    "    log.info('embedding of product {} added to qdrant successfully',str(product[0]['id']))"
   ]
  }
 ],
 "metadata": {
  "kernelspec": {
   "display_name": ".venv",
   "language": "python",
   "name": "python3"
  },
  "language_info": {
   "codemirror_mode": {
    "name": "ipython",
    "version": 3
   },
   "file_extension": ".py",
   "mimetype": "text/x-python",
   "name": "python",
   "nbconvert_exporter": "python",
   "pygments_lexer": "ipython3",
   "version": "3.10.9"
  }
 },
 "nbformat": 4,
 "nbformat_minor": 2
}
